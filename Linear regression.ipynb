{
 "cells": [
  {
   "cell_type": "code",
   "execution_count": 31,
   "metadata": {},
   "outputs": [],
   "source": [
    "# Import necessary libraries\n",
    "import pandas as pd\n",
    "from sklearn.model_selection import train_test_split\n",
    "from sklearn.linear_model import LinearRegression\n",
    "from sklearn.preprocessing import OneHotEncoder\n",
    "from sklearn.metrics import mean_squared_error\n",
    "import numpy as np\n",
    "import matplotlib.pyplot as plt"
   ]
  },
  {
   "cell_type": "code",
   "execution_count": 3,
   "metadata": {},
   "outputs": [],
   "source": [
    "df = pd.read_csv('features.csv', sep = '\\t')"
   ]
  },
  {
   "cell_type": "code",
   "execution_count": 23,
   "metadata": {},
   "outputs": [],
   "source": [
    "# Make one-hot encoded columns\n",
    "categories = ['Funding','Auth_country', 'Pub_country']\n",
    "columns = []\n",
    "for category in categories:\n",
    "    cat_df = pd.get_dummies(df[category], prefix=category, dtype=int)\n",
    "    columns.append(cat_df)\n",
    "cat_df = pd.concat(columns, axis = 1)"
   ]
  },
  {
   "cell_type": "code",
   "execution_count": 25,
   "metadata": {},
   "outputs": [],
   "source": [
    "#Make full dataframe\n",
    "num_df = df[['Year Published', 'Cited Reference Count', 'Page Count', 'num_auth', 'num_words']]\n",
    "X = pd.concat([num_df, cat_df], axis = 1)"
   ]
  },
  {
   "cell_type": "code",
   "execution_count": 34,
   "metadata": {},
   "outputs": [],
   "source": [
    "# Split for train/test\n",
    "y = df['JIF']\n",
    "\n",
    "# Split the dataset into training and testing sets\n",
    "X_train, X_test, y_train, y_test = train_test_split(X, y, test_size=0.3, random_state=42)"
   ]
  },
  {
   "cell_type": "code",
   "execution_count": 35,
   "metadata": {},
   "outputs": [],
   "source": [
    "# Build linear regression model\n",
    "model_one_hot = LinearRegression().fit(X_train, y_train)"
   ]
  },
  {
   "cell_type": "code",
   "execution_count": 77,
   "metadata": {},
   "outputs": [
    {
     "name": "stdout",
     "output_type": "stream",
     "text": [
      "1363\n"
     ]
    }
   ],
   "source": [
    "y_pred = model_one_hot.predict(X_test)\n",
    "pred_df = pd.DataFrame({'Observed':y_test, 'Predicted':y_pred})\n",
    "print(len(pred_df))\n",
    "pred_df = pred_df.drop(pred_df[pred_df['Predicted']>15].index, axis =0)\n",
    "pred_df = pred_df.drop(pred_df[pred_df['Predicted']<-3].index, axis =0)"
   ]
  },
  {
   "cell_type": "code",
   "execution_count": 78,
   "metadata": {},
   "outputs": [
    {
     "name": "stdout",
     "output_type": "stream",
     "text": [
      "1351\n"
     ]
    }
   ],
   "source": [
    "print(len(pred_df))"
   ]
  },
  {
   "cell_type": "code",
   "execution_count": 83,
   "metadata": {},
   "outputs": [
    {
     "data": {
      "text/plain": [
       "(0.0, 15.0)"
      ]
     },
     "execution_count": 83,
     "metadata": {},
     "output_type": "execute_result"
    },
    {
     "data": {
      "image/png": "[encoded data removed]",
      "text/plain": [
       "<Figure size 640x480 with 1 Axes>"
      ]
     },
     "metadata": {},
     "output_type": "display_data"
    }
   ],
   "source": [
    "\n",
    "# Evaluate model on the test set\n",
    "fig, ax = plt.subplots()\n",
    "ax.hist2d(pred_df['Predicted'], pred_df['Observed'] , bins=(np.arange(0, 14, 0.2), np.arange(0, 14, 0.2)))\n",
    "ax.set_title('BERT')\n",
    "ax.set_xlabel('Predicted')\n",
    "ax.set_ylabel('Observed')\n",
    "ax.set_ylim(0,15)\n",
    "ax.set_xlim(0,15)"
   ]
  },
  {
   "cell_type": "code",
   "execution_count": 80,
   "metadata": {},
   "outputs": [
    {
     "data": {
      "text/plain": [
       "array([[1.        , 0.41670649],\n",
       "       [0.41670649, 1.        ]])"
      ]
     },
     "execution_count": 80,
     "metadata": {},
     "output_type": "execute_result"
    }
   ],
   "source": [
    "np.corrcoef(pred_df['Predicted'], pred_df['Observed'])"
   ]
  },
  {
   "cell_type": "code",
   "execution_count": 81,
   "metadata": {},
   "outputs": [
    {
     "data": {
      "text/plain": [
       "<Axes: >"
      ]
     },
     "execution_count": 81,
     "metadata": {},
     "output_type": "execute_result"
    },
    {
     "data": {
      "image/png": "[encoded data removed]",
      "text/plain": [
       "<Figure size 640x480 with 1 Axes>"
      ]
     },
     "metadata": {},
     "output_type": "display_data"
    }
   ],
   "source": [
    "pred_df['Predicted'].hist(bins = 100)"
   ]
  },
  {
   "cell_type": "code",
   "execution_count": 54,
   "metadata": {},
   "outputs": [],
   "source": [
    "test_df = pd.concat([X_test, pred_df], axis = 1)"
   ]
  },
  {
   "cell_type": "code",
   "execution_count": 55,
   "metadata": {},
   "outputs": [
    {
     "data": {
      "text/html": [
       "<div>\n",
       "<style scoped>\n",
       "    .dataframe tbody tr th:only-of-type {\n",
       "        vertical-align: middle;\n",
       "    }\n",
       "\n",
       "    .dataframe tbody tr th {\n",
       "        vertical-align: top;\n",
       "    }\n",
       "\n",
       "    .dataframe thead th {\n",
       "        text-align: right;\n",
       "    }\n",
       "</style>\n",
       "<table border=\"1\" class=\"dataframe\">\n",
       "  <thead>\n",
       "    <tr style=\"text-align: right;\">\n",
       "      <th></th>\n",
       "      <th>Year Published</th>\n",
       "      <th>Cited Reference Count</th>\n",
       "      <th>Page Count</th>\n",
       "      <th>num_auth</th>\n",
       "      <th>num_words</th>\n",
       "      <th>Funding_False</th>\n",
       "      <th>Funding_True</th>\n",
       "      <th>Auth_country_AA</th>\n",
       "      <th>Auth_country_Algeria</th>\n",
       "      <th>Auth_country_Argentina</th>\n",
       "      <th>...</th>\n",
       "      <th>Pub_country_NEW ZEALAND</th>\n",
       "      <th>Pub_country_Netherlands</th>\n",
       "      <th>Pub_country_Poland</th>\n",
       "      <th>Pub_country_Russia</th>\n",
       "      <th>Pub_country_Spain</th>\n",
       "      <th>Pub_country_Switzerland</th>\n",
       "      <th>Pub_country_UK</th>\n",
       "      <th>Pub_country_USA</th>\n",
       "      <th>Observed</th>\n",
       "      <th>Predicted</th>\n",
       "    </tr>\n",
       "  </thead>\n",
       "  <tbody>\n",
       "    <tr>\n",
       "      <th>350</th>\n",
       "      <td>2022</td>\n",
       "      <td>33</td>\n",
       "      <td>12</td>\n",
       "      <td>10</td>\n",
       "      <td>202</td>\n",
       "      <td>0</td>\n",
       "      <td>1</td>\n",
       "      <td>0</td>\n",
       "      <td>0</td>\n",
       "      <td>0</td>\n",
       "      <td>...</td>\n",
       "      <td>0</td>\n",
       "      <td>0</td>\n",
       "      <td>0</td>\n",
       "      <td>0</td>\n",
       "      <td>0</td>\n",
       "      <td>0</td>\n",
       "      <td>0</td>\n",
       "      <td>1</td>\n",
       "      <td>7.400</td>\n",
       "      <td>3.121799e+08</td>\n",
       "    </tr>\n",
       "    <tr>\n",
       "      <th>4530</th>\n",
       "      <td>2020</td>\n",
       "      <td>61</td>\n",
       "      <td>9</td>\n",
       "      <td>10</td>\n",
       "      <td>123</td>\n",
       "      <td>0</td>\n",
       "      <td>1</td>\n",
       "      <td>0</td>\n",
       "      <td>0</td>\n",
       "      <td>0</td>\n",
       "      <td>...</td>\n",
       "      <td>0</td>\n",
       "      <td>0</td>\n",
       "      <td>0</td>\n",
       "      <td>0</td>\n",
       "      <td>0</td>\n",
       "      <td>1</td>\n",
       "      <td>0</td>\n",
       "      <td>0</td>\n",
       "      <td>4.677</td>\n",
       "      <td>8.401953e+06</td>\n",
       "    </tr>\n",
       "    <tr>\n",
       "      <th>239</th>\n",
       "      <td>2019</td>\n",
       "      <td>25</td>\n",
       "      <td>7</td>\n",
       "      <td>10</td>\n",
       "      <td>236</td>\n",
       "      <td>0</td>\n",
       "      <td>1</td>\n",
       "      <td>0</td>\n",
       "      <td>0</td>\n",
       "      <td>0</td>\n",
       "      <td>...</td>\n",
       "      <td>0</td>\n",
       "      <td>0</td>\n",
       "      <td>0</td>\n",
       "      <td>0</td>\n",
       "      <td>0</td>\n",
       "      <td>0</td>\n",
       "      <td>0</td>\n",
       "      <td>1</td>\n",
       "      <td>7.887</td>\n",
       "      <td>3.121799e+08</td>\n",
       "    </tr>\n",
       "    <tr>\n",
       "      <th>790</th>\n",
       "      <td>2002</td>\n",
       "      <td>42</td>\n",
       "      <td>12</td>\n",
       "      <td>6</td>\n",
       "      <td>130</td>\n",
       "      <td>1</td>\n",
       "      <td>0</td>\n",
       "      <td>0</td>\n",
       "      <td>1</td>\n",
       "      <td>0</td>\n",
       "      <td>...</td>\n",
       "      <td>0</td>\n",
       "      <td>1</td>\n",
       "      <td>0</td>\n",
       "      <td>0</td>\n",
       "      <td>0</td>\n",
       "      <td>0</td>\n",
       "      <td>0</td>\n",
       "      <td>0</td>\n",
       "      <td>1.014</td>\n",
       "      <td>4.423819e+09</td>\n",
       "    </tr>\n",
       "    <tr>\n",
       "      <th>3297</th>\n",
       "      <td>2022</td>\n",
       "      <td>45</td>\n",
       "      <td>12</td>\n",
       "      <td>10</td>\n",
       "      <td>396</td>\n",
       "      <td>0</td>\n",
       "      <td>1</td>\n",
       "      <td>0</td>\n",
       "      <td>0</td>\n",
       "      <td>0</td>\n",
       "      <td>...</td>\n",
       "      <td>0</td>\n",
       "      <td>0</td>\n",
       "      <td>0</td>\n",
       "      <td>0</td>\n",
       "      <td>0</td>\n",
       "      <td>0</td>\n",
       "      <td>0</td>\n",
       "      <td>1</td>\n",
       "      <td>4.900</td>\n",
       "      <td>3.121799e+08</td>\n",
       "    </tr>\n",
       "    <tr>\n",
       "      <th>1739</th>\n",
       "      <td>2003</td>\n",
       "      <td>30</td>\n",
       "      <td>7</td>\n",
       "      <td>6</td>\n",
       "      <td>239</td>\n",
       "      <td>1</td>\n",
       "      <td>0</td>\n",
       "      <td>0</td>\n",
       "      <td>0</td>\n",
       "      <td>0</td>\n",
       "      <td>...</td>\n",
       "      <td>0</td>\n",
       "      <td>0</td>\n",
       "      <td>0</td>\n",
       "      <td>0</td>\n",
       "      <td>0</td>\n",
       "      <td>0</td>\n",
       "      <td>0</td>\n",
       "      <td>0</td>\n",
       "      <td>1.092</td>\n",
       "      <td>2.650644e+08</td>\n",
       "    </tr>\n",
       "    <tr>\n",
       "      <th>293</th>\n",
       "      <td>2008</td>\n",
       "      <td>25</td>\n",
       "      <td>11</td>\n",
       "      <td>5</td>\n",
       "      <td>166</td>\n",
       "      <td>0</td>\n",
       "      <td>1</td>\n",
       "      <td>0</td>\n",
       "      <td>0</td>\n",
       "      <td>0</td>\n",
       "      <td>...</td>\n",
       "      <td>0</td>\n",
       "      <td>0</td>\n",
       "      <td>0</td>\n",
       "      <td>0</td>\n",
       "      <td>0</td>\n",
       "      <td>0</td>\n",
       "      <td>0</td>\n",
       "      <td>0</td>\n",
       "      <td>3.329</td>\n",
       "      <td>2.650644e+08</td>\n",
       "    </tr>\n",
       "    <tr>\n",
       "      <th>324</th>\n",
       "      <td>2016</td>\n",
       "      <td>44</td>\n",
       "      <td>8</td>\n",
       "      <td>5</td>\n",
       "      <td>157</td>\n",
       "      <td>0</td>\n",
       "      <td>1</td>\n",
       "      <td>0</td>\n",
       "      <td>0</td>\n",
       "      <td>0</td>\n",
       "      <td>...</td>\n",
       "      <td>0</td>\n",
       "      <td>0</td>\n",
       "      <td>0</td>\n",
       "      <td>0</td>\n",
       "      <td>0</td>\n",
       "      <td>0</td>\n",
       "      <td>0</td>\n",
       "      <td>1</td>\n",
       "      <td>3.466</td>\n",
       "      <td>3.792338e+06</td>\n",
       "    </tr>\n",
       "  </tbody>\n",
       "</table>\n",
       "<p>8 rows × 126 columns</p>\n",
       "</div>"
      ],
      "text/plain": [
       "      Year Published  Cited Reference Count  Page Count  num_auth  num_words  \\\n",
       "350             2022                     33          12        10        202   \n",
       "4530            2020                     61           9        10        123   \n",
       "239             2019                     25           7        10        236   \n",
       "790             2002                     42          12         6        130   \n",
       "3297            2022                     45          12        10        396   \n",
       "1739            2003                     30           7         6        239   \n",
       "293             2008                     25          11         5        166   \n",
       "324             2016                     44           8         5        157   \n",
       "\n",
       "      Funding_False  Funding_True  Auth_country_AA  Auth_country_Algeria  \\\n",
       "350               0             1                0                     0   \n",
       "4530              0             1                0                     0   \n",
       "239               0             1                0                     0   \n",
       "790               1             0                0                     1   \n",
       "3297              0             1                0                     0   \n",
       "1739              1             0                0                     0   \n",
       "293               0             1                0                     0   \n",
       "324               0             1                0                     0   \n",
       "\n",
       "      Auth_country_Argentina  ...  Pub_country_NEW ZEALAND  \\\n",
       "350                        0  ...                        0   \n",
       "4530                       0  ...                        0   \n",
       "239                        0  ...                        0   \n",
       "790                        0  ...                        0   \n",
       "3297                       0  ...                        0   \n",
       "1739                       0  ...                        0   \n",
       "293                        0  ...                        0   \n",
       "324                        0  ...                        0   \n",
       "\n",
       "      Pub_country_Netherlands  Pub_country_Poland  Pub_country_Russia  \\\n",
       "350                         0                   0                   0   \n",
       "4530                        0                   0                   0   \n",
       "239                         0                   0                   0   \n",
       "790                         1                   0                   0   \n",
       "3297                        0                   0                   0   \n",
       "1739                        0                   0                   0   \n",
       "293                         0                   0                   0   \n",
       "324                         0                   0                   0   \n",
       "\n",
       "      Pub_country_Spain  Pub_country_Switzerland  Pub_country_UK  \\\n",
       "350                   0                        0               0   \n",
       "4530                  0                        1               0   \n",
       "239                   0                        0               0   \n",
       "790                   0                        0               0   \n",
       "3297                  0                        0               0   \n",
       "1739                  0                        0               0   \n",
       "293                   0                        0               0   \n",
       "324                   0                        0               0   \n",
       "\n",
       "      Pub_country_USA  Observed     Predicted  \n",
       "350                 1     7.400  3.121799e+08  \n",
       "4530                0     4.677  8.401953e+06  \n",
       "239                 1     7.887  3.121799e+08  \n",
       "790                 0     1.014  4.423819e+09  \n",
       "3297                1     4.900  3.121799e+08  \n",
       "1739                0     1.092  2.650644e+08  \n",
       "293                 0     3.329  2.650644e+08  \n",
       "324                 1     3.466  3.792338e+06  \n",
       "\n",
       "[8 rows x 126 columns]"
      ]
     },
     "execution_count": 55,
     "metadata": {},
     "output_type": "execute_result"
    }
   ],
   "source": [
    "test_df[test_df['Predicted']>100]"
   ]
  },
  {
   "cell_type": "code",
   "execution_count": null,
   "metadata": {},
   "outputs": [],
   "source": []
  }
 ],
 "metadata": {
  "kernelspec": {
   "display_name": "w266",
   "language": "python",
   "name": "python3"
  },
  "language_info": {
   "codemirror_mode": {
    "name": "ipython",
    "version": 3
   },
   "file_extension": ".py",
   "mimetype": "text/x-python",
   "name": "python",
   "nbconvert_exporter": "python",
   "pygments_lexer": "ipython3",
   "version": "3.12.2"
  }
 },
 "nbformat": 4,
 "nbformat_minor": 2
}
