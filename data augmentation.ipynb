{
  "cells": [
    {
      "cell_type": "code",
      "execution_count": 13,
      "metadata": {},
      "outputs": [
        {
          "name": "stderr",
          "output_type": "stream",
          "text": [
            "[nltk_data] Downloading package punkt to\n",
            "[nltk_data]     C:\\Users\\Artem\\AppData\\Roaming\\nltk_data...\n",
            "[nltk_data]   Unzipping tokenizers\\punkt.zip.\n"
          ]
        },
        {
          "data": {
            "text/plain": [
              "True"
            ]
          },
          "execution_count": 13,
          "metadata": {},
          "output_type": "execute_result"
        }
      ],
      "source": [
        "#import libraries\n",
        "import pandas as pd\n",
        "import matplotlib.pyplot as plt\n",
        "import os\n",
        "import nltk\n",
        "nltk.download('punkt')"
      ]
    },
    {
      "cell_type": "markdown",
      "metadata": {},
      "source": [
        "## Load Files"
      ]
    },
    {
      "cell_type": "code",
      "execution_count": 4,
      "metadata": {},
      "outputs": [],
      "source": [
        "# Read all columns and concatenate them into a single dataframe\n",
        "df = pd.read_csv(f\"join_df.csv\", sep=\"\\t\", index_col=0)"
      ]
    },
    {
      "cell_type": "code",
      "execution_count": 17,
      "metadata": {},
      "outputs": [
        {
          "data": {
            "text/plain": [
              "Index(['ISSN', 'JIF', 'Eigenfactor', 'Year Published', 'Authors',\n",
              "       'Document Title', 'Publication Name', 'Author Keywords', 'Abstract',\n",
              "       'Author Address', 'Reprint Address', 'Funding Agency and Grant Number',\n",
              "       'Cited Reference Count', 'Times cited', 'Usage Count (Last 180 Days)',\n",
              "       'Usage Count (Since 2013)', 'Publisher Address', 'Page Count',\n",
              "       'Web of Science Categories', 'eISSN', 'snts_count'],\n",
              "      dtype='object')"
            ]
          },
          "execution_count": 17,
          "metadata": {},
          "output_type": "execute_result"
        }
      ],
      "source": [
        "df.columns"
      ]
    },
    {
      "cell_type": "code",
      "execution_count": 25,
      "metadata": {},
      "outputs": [],
      "source": [
        "df['snts'] = df['Abstract'].apply(lambda x: [x for x in nltk.sent_tokenize(x) if 'All rights' not in x]) \n",
        "df['snts'] = df['snts'].apply(padding_abstract)"
      ]
    },
    {
      "cell_type": "code",
      "execution_count": 29,
      "metadata": {},
      "outputs": [],
      "source": [
        "def padding_abstract(list_abstrct):\n",
        "    if len(list_abstrct) >= 20:\n",
        "        return list_abstrct[:20]\n",
        "    else:\n",
        "        padding = 20 - len(list_abstrct)\n",
        "        return list_abstrct + [[''] for i in range(padding)]"
      ]
    },
    {
      "cell_type": "code",
      "execution_count": 27,
      "metadata": {},
      "outputs": [
        {
          "data": {
            "text/plain": [
              "[['a'], ['b'], [''], [''], ['']]"
            ]
          },
          "execution_count": 27,
          "metadata": {},
          "output_type": "execute_result"
        }
      ],
      "source": [
        "list_txt = [['a'], ['b']]\n",
        "padding = 3\n",
        "pad = [[''] for i in range(padding)]\n",
        "list_txt + pad"
      ]
    },
    {
      "cell_type": "code",
      "execution_count": 30,
      "metadata": {},
      "outputs": [],
      "source": []
    },
    {
      "cell_type": "code",
      "execution_count": 32,
      "metadata": {},
      "outputs": [
        {
          "data": {
            "text/plain": [
              "['The synthesis of the first high specific activity S-35-labeled hERG radioligand, [S-35]MK-0499, for use in HTS assays of drug candidates for hERG interaction is described.',\n",
              " 'The radioligand is prepared by [S-35]sulfonylation of a high diastereomeric excess (de) aniline precursor prepared from unlabeled MK-0499.',\n",
              " [''],\n",
              " [''],\n",
              " [''],\n",
              " [''],\n",
              " [''],\n",
              " [''],\n",
              " [''],\n",
              " [''],\n",
              " [''],\n",
              " [''],\n",
              " [''],\n",
              " [''],\n",
              " [''],\n",
              " [''],\n",
              " [''],\n",
              " [''],\n",
              " [''],\n",
              " ['']]"
            ]
          },
          "execution_count": 32,
          "metadata": {},
          "output_type": "execute_result"
        }
      ],
      "source": []
    },
    {
      "cell_type": "code",
      "execution_count": null,
      "metadata": {},
      "outputs": [],
      "source": []
    }
  ],
  "metadata": {
    "kernelspec": {
      "display_name": "Python 3 (ipykernel)",
      "language": "python",
      "name": "python3"
    },
    "language_info": {
      "codemirror_mode": {
        "name": "ipython",
        "version": 3
      },
      "file_extension": ".py",
      "mimetype": "text/x-python",
      "name": "python",
      "nbconvert_exporter": "python",
      "pygments_lexer": "ipython3",
      "version": "3.12.2"
    }
  },
  "nbformat": 4,
  "nbformat_minor": 4
}
