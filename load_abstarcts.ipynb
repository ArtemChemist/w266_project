{
  "cells": [
    {
      "cell_type": "code",
      "execution_count": 10,
      "metadata": {},
      "outputs": [],
      "source": [
        "#import libraries\n",
        "import pandas as pd\n",
        "import matplotlib.pyplot as plt"
      ]
    },
    {
      "cell_type": "markdown",
      "metadata": {},
      "source": [
        "## Load abstracts"
      ]
    },
    {
      "cell_type": "code",
      "execution_count": 11,
      "metadata": {},
      "outputs": [],
      "source": [
        "# Read all columns and concatenate them into a single dataframe\n",
        "abs_file_names = ['0-1000', '1001-2000', '2001-3000', '3001-4000', '4001-5000', '5001-6000', '6001-7000', '7001-8000', '8001-9000', '9001-9137']\n",
        "\n",
        "dfs = []\n",
        "for file_name in abs_file_names:\n",
        "    dfs.append(pd.read_csv(f\"./raw_data/{file_name}.txt\", header = 0, sep=\"\\t\"))\n",
        "\n",
        "abstracts_df = pd.concat(dfs, axis = 0)"
      ]
    },
    {
      "cell_type": "code",
      "execution_count": 12,
      "metadata": {
        "scrolled": true
      },
      "outputs": [],
      "source": [
        "# Read the field names stored in the file\n",
        "all_field_names = pd.read_csv(\"./raw_data/column_names.csv\", header = None, sep=\",\")\n",
        "column_names = []\n",
        "for i in range(len(abstracts_df.columns)):\n",
        "    column_name = all_field_names[all_field_names[0] == abstracts_df.columns[i]][1].to_string().split('  ')[-1]\n",
        "    column_names.append(column_name)\n",
        "\n",
        "#assign the proper column names\n",
        "abstracts_df.columns = column_names\n"
      ]
    },
    {
      "cell_type": "code",
      "execution_count": 13,
      "metadata": {},
      "outputs": [],
      "source": [
        "abstracts_df.drop(abstracts_df[abstracts_df['Language'] !='English'].index, inplace=True)\n",
        "abstracts_df.drop(abstracts_df[abstracts_df['Document Type' ] != 'Article' ].index, inplace=True)"
      ]
    },
    {
      "cell_type": "code",
      "execution_count": 14,
      "metadata": {},
      "outputs": [],
      "source": [
        "# Find columns that are mostly empty, drop them\n",
        "nan_count = abstracts_df.isna().sum()/len(abstracts_df)\n",
        "# Drop those and the columns with repeptitve information\n",
        "abstracts_df.drop(columns = list(nan_count[nan_count>0.5].index) + ['Publication Type (J=Journal; B=Book; S=Series;...',\n",
        "                                                                    'Language','Document Type',\n",
        "                                                                     'Date this report was generated.',\n",
        "                                                                      'PubMed ID',\n",
        "                                                                      '29-Character Source Abbreviation',\n",
        "                                                                      'Document Delivery Number',\n",
        "                                                                      'Accession Number'\n",
        "                                                                      ,'Total Times Cited Count (Web of Science Core C...'], inplace=True)"
      ]
    },
    {
      "cell_type": "code",
      "execution_count": 15,
      "metadata": {},
      "outputs": [],
      "source": [
        "# Drop more columns with repeptitve information\n",
        "index_of_extraDOI = list(abstracts_df.columns).index('Digital Object Identifier (DOI)') + 1\n",
        "abstracts_df.drop(columns = abstracts_df.columns[index_of_extraDOI], inplace=True)\n",
        "index_of_extraCats = list(abstracts_df.columns).index('Web of Science Categories') + 1\n",
        "abstracts_df.drop(columns = abstracts_df.columns[index_of_extraCats], inplace=True)"
      ]
    },
    {
      "cell_type": "code",
      "execution_count": 16,
      "metadata": {},
      "outputs": [
        {
          "data": {
            "text/plain": [
              "Index(['Authors', 'Author Full Name', 'Document Title', 'Publication Name',\n",
              "       'Author Keywords', 'Keywords Plus®', 'Abstract', 'Author Address',\n",
              "       'Reprint Address', 'E-mail Address', 'ResearcherID Number',\n",
              "       'ORCID Identifier (Open Researcher and Contribu...',\n",
              "       'Funding Agency and Grant Number', 'Cited Reference Count',\n",
              "       'Web of Science Core Collection Times Cited Count',\n",
              "       'Usage Count (Last 180 Days)', 'Usage Count (Since 2013)', 'Publisher',\n",
              "       'Publisher City', 'Publisher Address',\n",
              "       'International Standard Serial Number (ISSN)',\n",
              "       'Electronic International Standard Serial Numbe...',\n",
              "       'ISO Source Abbreviation', 'Publication Date', 'Year Published',\n",
              "       'Volume', 'Issue', 'Beginning Page', 'Ending Page',\n",
              "       'Digital Object Identifier (DOI)', 'Page Count',\n",
              "       'Web of Science Categories'],\n",
              "      dtype='object')"
            ]
          },
          "execution_count": 16,
          "metadata": {},
          "output_type": "execute_result"
        }
      ],
      "source": [
        "abstracts_df.columns"
      ]
    },
    {
      "cell_type": "code",
      "execution_count": 17,
      "metadata": {},
      "outputs": [],
      "source": [
        "abstracts_df = abstracts_df.rename(columns={'International Standard Serial Number (ISSN)':'ISSN',\n",
        "                                            'Electronic International Standard Serial Numbe...':'eISSN',\n",
        "                                             'ORCID Identifier (Open Researcher and Contribu...':'ORCIDs'})"
      ]
    },
    {
      "cell_type": "code",
      "execution_count": 18,
      "metadata": {},
      "outputs": [
        {
          "data": {
            "text/plain": [
              "6335"
            ]
          },
          "execution_count": 18,
          "metadata": {},
          "output_type": "execute_result"
        }
      ],
      "source": [
        "len(abstracts_df)"
      ]
    },
    {
      "cell_type": "code",
      "execution_count": 19,
      "metadata": {},
      "outputs": [],
      "source": [
        "abstracts_df.to_csv('abstracts_df.csv', '\\t')"
      ]
    }
  ],
  "metadata": {
    "kernelspec": {
      "display_name": "Python 3 (ipykernel)",
      "language": "python",
      "name": "python3"
    },
    "language_info": {
      "codemirror_mode": {
        "name": "ipython",
        "version": 3
      },
      "file_extension": ".py",
      "mimetype": "text/x-python",
      "name": "python",
      "nbconvert_exporter": "python",
      "pygments_lexer": "ipython3",
      "version": "3.11.4"
    }
  },
  "nbformat": 4,
  "nbformat_minor": 4
}
