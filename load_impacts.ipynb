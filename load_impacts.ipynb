{
  "cells": [
    {
      "cell_type": "code",
      "execution_count": 2,
      "metadata": {},
      "outputs": [],
      "source": [
        "#import libraries\n",
        "import pandas as pd\n",
        "import matplotlib.pyplot as plt"
      ]
    },
    {
      "cell_type": "markdown",
      "metadata": {},
      "source": [
        "## Load Files"
      ]
    },
    {
      "cell_type": "code",
      "execution_count": 19,
      "metadata": {},
      "outputs": [],
      "source": [
        "# Read all columns and concatenate them into a single dataframe\n",
        "dfs = []\n",
        "for year in range(2000, 2023):\n",
        "    year_JIF = pd.read_csv(f\"./raw_data/JIF{year}.csv\", header = 1, sep=\",\", index_col=False)\n",
        "    year_JIF['year'] = year\n",
        "    year_JIF.columns = ['Journal name', 'JCR Abbreviation', 'ISSN', 'eISSN', 'Category',\n",
        "       'JIF', 'Eigenfactor', 'year']\n",
        "    dfs.append(year_JIF)\n",
        "\n",
        "IFs_df = pd.concat(dfs, axis = 0)"
      ]
    },
    {
      "cell_type": "code",
      "execution_count": 22,
      "metadata": {},
      "outputs": [
        {
          "data": {
            "text/html": [
              "<div>\n",
              "<style scoped>\n",
              "    .dataframe tbody tr th:only-of-type {\n",
              "        vertical-align: middle;\n",
              "    }\n",
              "\n",
              "    .dataframe tbody tr th {\n",
              "        vertical-align: top;\n",
              "    }\n",
              "\n",
              "    .dataframe thead th {\n",
              "        text-align: right;\n",
              "    }\n",
              "</style>\n",
              "<table border=\"1\" class=\"dataframe\">\n",
              "  <thead>\n",
              "    <tr style=\"text-align: right;\">\n",
              "      <th></th>\n",
              "      <th>Journal name</th>\n",
              "      <th>ISSN</th>\n",
              "      <th>eISSN</th>\n",
              "      <th>JIF</th>\n",
              "      <th>Eigenfactor</th>\n",
              "      <th>year</th>\n",
              "    </tr>\n",
              "  </thead>\n",
              "  <tbody>\n",
              "    <tr>\n",
              "      <th>0</th>\n",
              "      <td>ANNUAL REVIEW OF BIOCHEMISTRY</td>\n",
              "      <td>0066-4154</td>\n",
              "      <td>1545-4509</td>\n",
              "      <td>43.429</td>\n",
              "      <td>NaN</td>\n",
              "      <td>2000</td>\n",
              "    </tr>\n",
              "    <tr>\n",
              "      <th>1</th>\n",
              "      <td>CELL</td>\n",
              "      <td>0092-8674</td>\n",
              "      <td>1097-4172</td>\n",
              "      <td>32.440</td>\n",
              "      <td>NaN</td>\n",
              "      <td>2000</td>\n",
              "    </tr>\n",
              "    <tr>\n",
              "      <th>2</th>\n",
              "      <td>NATURE MEDICINE</td>\n",
              "      <td>1078-8956</td>\n",
              "      <td>1546-170X</td>\n",
              "      <td>27.905</td>\n",
              "      <td>NaN</td>\n",
              "      <td>2000</td>\n",
              "    </tr>\n",
              "    <tr>\n",
              "      <th>3</th>\n",
              "      <td>ANNUAL REVIEW OF CELL AND DEVELOPMENTAL BIOLOGY</td>\n",
              "      <td>1081-0706</td>\n",
              "      <td>1530-8995</td>\n",
              "      <td>26.300</td>\n",
              "      <td>NaN</td>\n",
              "      <td>2000</td>\n",
              "    </tr>\n",
              "    <tr>\n",
              "      <th>4</th>\n",
              "      <td>CA-A CANCER JOURNAL FOR CLINICIANS</td>\n",
              "      <td>0007-9235</td>\n",
              "      <td>1542-4863</td>\n",
              "      <td>24.674</td>\n",
              "      <td>NaN</td>\n",
              "      <td>2000</td>\n",
              "    </tr>\n",
              "    <tr>\n",
              "      <th>...</th>\n",
              "      <td>...</td>\n",
              "      <td>...</td>\n",
              "      <td>...</td>\n",
              "      <td>...</td>\n",
              "      <td>...</td>\n",
              "      <td>...</td>\n",
              "    </tr>\n",
              "    <tr>\n",
              "      <th>659</th>\n",
              "      <td>Cancer Drug Resistance</td>\n",
              "      <td>NaN</td>\n",
              "      <td>2578-532X</td>\n",
              "      <td>3.700</td>\n",
              "      <td>0.001</td>\n",
              "      <td>2022</td>\n",
              "    </tr>\n",
              "    <tr>\n",
              "      <th>660</th>\n",
              "      <td>ChemPhotoChem</td>\n",
              "      <td>2367-0932</td>\n",
              "      <td>2367-0932</td>\n",
              "      <td>3.700</td>\n",
              "      <td>0.004</td>\n",
              "      <td>2022</td>\n",
              "    </tr>\n",
              "    <tr>\n",
              "      <th>661</th>\n",
              "      <td>Molecular Informatics</td>\n",
              "      <td>1868-1743</td>\n",
              "      <td>1868-1751</td>\n",
              "      <td>3.600</td>\n",
              "      <td>0.002</td>\n",
              "      <td>2022</td>\n",
              "    </tr>\n",
              "    <tr>\n",
              "      <th>662</th>\n",
              "      <td>Copyright (c) 2024 Clarivate</td>\n",
              "      <td>NaN</td>\n",
              "      <td>NaN</td>\n",
              "      <td>NaN</td>\n",
              "      <td>NaN</td>\n",
              "      <td>2022</td>\n",
              "    </tr>\n",
              "    <tr>\n",
              "      <th>663</th>\n",
              "      <td>By exporting the selected data; you agree to t...</td>\n",
              "      <td>NaN</td>\n",
              "      <td>NaN</td>\n",
              "      <td>NaN</td>\n",
              "      <td>NaN</td>\n",
              "      <td>2022</td>\n",
              "    </tr>\n",
              "  </tbody>\n",
              "</table>\n",
              "<p>15596 rows × 6 columns</p>\n",
              "</div>"
            ],
            "text/plain": [
              "                                          Journal name       ISSN      eISSN  \\\n",
              "0                        ANNUAL REVIEW OF BIOCHEMISTRY  0066-4154  1545-4509   \n",
              "1                                                 CELL  0092-8674  1097-4172   \n",
              "2                                      NATURE MEDICINE  1078-8956  1546-170X   \n",
              "3      ANNUAL REVIEW OF CELL AND DEVELOPMENTAL BIOLOGY  1081-0706  1530-8995   \n",
              "4                   CA-A CANCER JOURNAL FOR CLINICIANS  0007-9235  1542-4863   \n",
              "..                                                 ...        ...        ...   \n",
              "659                             Cancer Drug Resistance        NaN  2578-532X   \n",
              "660                                      ChemPhotoChem  2367-0932  2367-0932   \n",
              "661                              Molecular Informatics  1868-1743  1868-1751   \n",
              "662                      Copyright (c) 2024 Clarivate         NaN        NaN   \n",
              "663  By exporting the selected data; you agree to t...        NaN        NaN   \n",
              "\n",
              "        JIF  Eigenfactor  year  \n",
              "0    43.429          NaN  2000  \n",
              "1    32.440          NaN  2000  \n",
              "2    27.905          NaN  2000  \n",
              "3    26.300          NaN  2000  \n",
              "4    24.674          NaN  2000  \n",
              "..      ...          ...   ...  \n",
              "659   3.700        0.001  2022  \n",
              "660   3.700        0.004  2022  \n",
              "661   3.600        0.002  2022  \n",
              "662     NaN          NaN  2022  \n",
              "663     NaN          NaN  2022  \n",
              "\n",
              "[15596 rows x 6 columns]"
            ]
          },
          "execution_count": 22,
          "metadata": {},
          "output_type": "execute_result"
        }
      ],
      "source": [
        "IFs_df"
      ]
    },
    {
      "cell_type": "code",
      "execution_count": 21,
      "metadata": {},
      "outputs": [],
      "source": [
        "# Find columns that are mostly empty, drop them\n",
        "nan_count = IFs_df.isna().sum()/len(IFs_df)\n",
        "# Drop those and the columns with repeptitve information\n",
        "IFs_df.drop(columns = list(nan_count[nan_count>0.5].index) + ['JCR Abbreviation', 'Category'], inplace=True)"
      ]
    },
    {
      "cell_type": "code",
      "execution_count": 114,
      "metadata": {},
      "outputs": [
        {
          "data": {
            "text/plain": [
              "6335"
            ]
          },
          "execution_count": 114,
          "metadata": {},
          "output_type": "execute_result"
        }
      ],
      "source": [
        "len(abstracts_df)"
      ]
    }
  ],
  "metadata": {
    "kernelspec": {
      "display_name": "Python 3 (ipykernel)",
      "language": "python",
      "name": "python3"
    },
    "language_info": {
      "codemirror_mode": {
        "name": "ipython",
        "version": 3
      },
      "file_extension": ".py",
      "mimetype": "text/x-python",
      "name": "python",
      "nbconvert_exporter": "python",
      "pygments_lexer": "ipython3",
      "version": "3.11.4"
    }
  },
  "nbformat": 4,
  "nbformat_minor": 4
}
