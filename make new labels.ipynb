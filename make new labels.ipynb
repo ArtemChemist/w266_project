{
  "cells": [
    {
      "cell_type": "code",
      "execution_count": 1,
      "metadata": {},
      "outputs": [],
      "source": [
        "#import libraries\n",
        "import pandas as pd\n",
        "import matplotlib.pyplot as plt\n",
        "import os"
      ]
    },
    {
      "cell_type": "markdown",
      "metadata": {},
      "source": [
        "## Load Files"
      ]
    },
    {
      "cell_type": "code",
      "execution_count": 141,
      "metadata": {},
      "outputs": [],
      "source": [
        "# Read all columns and concatenate them into a single dataframe\n",
        "df = pd.read_csv(f\"join_df.csv\", sep=\"\\t\", index_col=0)"
      ]
    },
    {
      "cell_type": "code",
      "execution_count": 162,
      "metadata": {},
      "outputs": [],
      "source": [
        "class JIF_ranker:\n",
        "    def __init__(self):\n",
        "        self.LUT = pd.DataFrame()\n",
        "\n",
        "\n",
        "    def fit(self, series: pd.Series):\n",
        "        self.LUT = pd.DataFrame(series.groupby(series).size().cumsum()/len(series))\n",
        "        self.LUT.columns = ['Rank']\n",
        "        self.LUT.reset_index(inplace = True)\n",
        "        self.LUT.columns = ['JIF', 'Rank']\n",
        "\n",
        "\n",
        "    def rank_to_JIF(self, rank:float):\n",
        "        if (rank <= 1) & (rank >= 0):\n",
        "            idx = (self.LUT['Rank']- rank).abs().argsort()[:2].sort_values()\n",
        "            JIF_before = self.LUT.iloc[idx]['JIF'].iloc[0]\n",
        "            JIF_after = self.LUT.iloc[idx]['JIF'].iloc[1]\n",
        "            rank_before = self.LUT.iloc[idx]['Rank'].iloc[0]\n",
        "            rank_after = self.LUT.iloc[idx]['Rank'].iloc[1]\n",
        "            JIF_to_return = JIF_before + (JIF_after-JIF_before)*(rank-rank_before)/(rank_after-rank_before)\n",
        "        else:\n",
        "            JIF_to_return = False\n",
        "        return JIF_to_return\n",
        "    \n",
        "    def JIF_to_rank(self, JIF:float):\n",
        "        idx = (self.LUT['JIF']- JIF).abs().argsort()[:2].sort_values()\n",
        "        JIF_before = self.LUT.iloc[idx]['JIF'].iloc[0]\n",
        "        JIF_after = self.LUT.iloc[idx]['JIF'].iloc[1]\n",
        "        rank_before = self.LUT.iloc[idx]['Rank'].iloc[0]\n",
        "        rank_after = self.LUT.iloc[idx]['Rank'].iloc[1]\n",
        "        rank_to_return = rank_before + (rank_after-rank_before)*(JIF-JIF_before)/(JIF_after-JIF_before)\n",
        "        return rank_to_return\n",
        "        \n"
      ]
    },
    {
      "cell_type": "code",
      "execution_count": 163,
      "metadata": {},
      "outputs": [],
      "source": [
        "test = JIF_ranker()\n",
        "test.fit(df['JIF'])\n",
        "LUT = test.LUT\n",
        "val = 4.405"
      ]
    },
    {
      "cell_type": "code",
      "execution_count": 164,
      "metadata": {},
      "outputs": [
        {
          "data": {
            "text/html": [
              "<div>\n",
              "<style scoped>\n",
              "    .dataframe tbody tr th:only-of-type {\n",
              "        vertical-align: middle;\n",
              "    }\n",
              "\n",
              "    .dataframe tbody tr th {\n",
              "        vertical-align: top;\n",
              "    }\n",
              "\n",
              "    .dataframe thead th {\n",
              "        text-align: right;\n",
              "    }\n",
              "</style>\n",
              "<table border=\"1\" class=\"dataframe\">\n",
              "  <thead>\n",
              "    <tr style=\"text-align: right;\">\n",
              "      <th></th>\n",
              "      <th>JIF</th>\n",
              "      <th>Rank</th>\n",
              "    </tr>\n",
              "  </thead>\n",
              "  <tbody>\n",
              "    <tr>\n",
              "      <th>929</th>\n",
              "      <td>4.404</td>\n",
              "      <td>0.623954</td>\n",
              "    </tr>\n",
              "    <tr>\n",
              "      <th>930</th>\n",
              "      <td>4.405</td>\n",
              "      <td>0.624174</td>\n",
              "    </tr>\n",
              "  </tbody>\n",
              "</table>\n",
              "</div>"
            ],
            "text/plain": [
              "       JIF      Rank\n",
              "929  4.404  0.623954\n",
              "930  4.405  0.624174"
            ]
          },
          "execution_count": 164,
          "metadata": {},
          "output_type": "execute_result"
        }
      ],
      "source": [
        "idx = (LUT['JIF']- val).abs().argsort()[:2].sort_values()\n",
        "LUT.iloc[idx]"
      ]
    },
    {
      "cell_type": "code",
      "execution_count": 168,
      "metadata": {},
      "outputs": [
        {
          "data": {
            "text/plain": [
              "1.0000577788060436"
            ]
          },
          "execution_count": 168,
          "metadata": {},
          "output_type": "execute_result"
        }
      ],
      "source": []
    },
    {
      "cell_type": "code",
      "execution_count": null,
      "metadata": {},
      "outputs": [],
      "source": []
    }
  ],
  "metadata": {
    "kernelspec": {
      "display_name": "Python 3 (ipykernel)",
      "language": "python",
      "name": "python3"
    },
    "language_info": {
      "codemirror_mode": {
        "name": "ipython",
        "version": 3
      },
      "file_extension": ".py",
      "mimetype": "text/x-python",
      "name": "python",
      "nbconvert_exporter": "python",
      "pygments_lexer": "ipython3",
      "version": "3.12.2"
    }
  },
  "nbformat": 4,
  "nbformat_minor": 4
}
