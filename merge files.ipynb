{
  "cells": [
    {
      "cell_type": "code",
      "execution_count": 38,
      "metadata": {},
      "outputs": [],
      "source": [
        "#import libraries\n",
        "import pandas as pd\n",
        "import matplotlib.pyplot as plt\n",
        "import os"
      ]
    },
    {
      "cell_type": "markdown",
      "metadata": {},
      "source": [
        "## Load Files"
      ]
    },
    {
      "cell_type": "code",
      "execution_count": 39,
      "metadata": {},
      "outputs": [
        {
          "name": "stdout",
          "output_type": "stream",
          "text": [
            "JIFs: 15232; Abs: 6335\n"
          ]
        }
      ],
      "source": [
        "# Read all columns and concatenate them into a single dataframe\n",
        "JIF_df = pd.read_csv(f\"IFs_df.csv\", header = 0, sep=\"\\t\", index_col=0)\n",
        "Abs_df = pd.read_csv(f\"abstracts_df.csv\", header = 0, sep=\"\\t\", index_col=0)\n",
        "print(f'JIFs: {len(JIF_df)}; Abs: {len(Abs_df)}')"
      ]
    },
    {
      "cell_type": "code",
      "execution_count": 40,
      "metadata": {},
      "outputs": [
        {
          "data": {
            "text/plain": [
              "6302"
            ]
          },
          "execution_count": 40,
          "metadata": {},
          "output_type": "execute_result"
        }
      ],
      "source": [
        "# Join files on ISSN, drop duplicates\n",
        "new_df = pd.merge(JIF_df, Abs_df[Abs_df['ISSN'].notna()], how = 'right', on=['ISSN', 'Year Published'])\n",
        "new_df.drop_duplicates(subset=['Document Title'], keep='first', inplace=True, ignore_index=True)\n",
        "# Join files on eISSN, drop duplicates\n",
        "new_df_1 = pd.merge(JIF_df, Abs_df[Abs_df['ISSN'].isna()], how = 'right', on=['eISSN', 'Year Published'])\n",
        "new_df_1.drop_duplicates(subset=['Document Title'], keep='first', inplace=True, ignore_index=True)\n",
        "\n",
        "# Conctenate joins, drop extra columns\n",
        "join_df = pd.concat([new_df, new_df_1], axis = 0)\n",
        "join_df.drop(columns = ['eISSN_x', 'eISSN_y', 'ISSN_x', 'ISSN_y'], inplace=True)\n",
        "join_df['Year Published'] = join_df['Year Published'].astype(int)\n",
        "join_df['Publication Name'] = join_df['Publication Name'].apply(lambda x: x.lower())\n",
        "len(join_df)"
      ]
    },
    {
      "cell_type": "code",
      "execution_count": 41,
      "metadata": {},
      "outputs": [],
      "source": [
        "# Drop columns irrelevant for the analysis\n",
        "join_df.drop(['Keywords Plus®', 'E-mail Address', 'ResearcherID Number', 'ORCIDs', 'Publisher', 'Publisher City','ISO Source Abbreviation', 'Publication Date',\n",
        "       'Volume', 'Issue', 'Beginning Page', 'Ending Page', 'Journal name',\n",
        "       'Digital Object Identifier (DOI)', 'Author Full Name'], axis=1, inplace=True)"
      ]
    },
    {
      "cell_type": "code",
      "execution_count": 42,
      "metadata": {},
      "outputs": [
        {
          "data": {
            "text/plain": [
              "Index(['ISSN', 'JIF', 'Eigenfactor', 'Year Published', 'Authors',\n",
              "       'Document Title', 'Publication Name', 'Author Keywords', 'Abstract',\n",
              "       'Author Address', 'Reprint Address', 'Funding Agency and Grant Number',\n",
              "       'Cited Reference Count', 'Times cited', 'Usage Count (Last 180 Days)',\n",
              "       'Usage Count (Since 2013)', 'Publisher Address', 'Page Count',\n",
              "       'Web of Science Categories', 'eISSN'],\n",
              "      dtype='object')"
            ]
          },
          "execution_count": 42,
          "metadata": {},
          "output_type": "execute_result"
        }
      ],
      "source": [
        "join_df.columns"
      ]
    },
    {
      "cell_type": "code",
      "execution_count": 43,
      "metadata": {},
      "outputs": [
        {
          "name": "stderr",
          "output_type": "stream",
          "text": [
            "C:\\Users\\Artem\\AppData\\Local\\Temp\\ipykernel_19656\\2774811435.py:3: FutureWarning: Starting with pandas version 3.0 all arguments of to_csv except for the argument 'path_or_buf' will be keyword-only.\n",
            "  missing.to_csv('missing.csv', '\\t')\n"
          ]
        }
      ],
      "source": [
        "#Find journals with missing JIF\n",
        "missing  = join_df[join_df['JIF'].isna()].groupby(['Publication Name'])['Publication Name'].count().sort_values(ascending=False)\n",
        "missing.to_csv('missing.csv', '\\t')\n",
        "\n",
        "# Now go and manually download the data for missing journals"
      ]
    },
    {
      "cell_type": "code",
      "execution_count": 44,
      "metadata": {},
      "outputs": [],
      "source": [
        "# Get a list of files in the missing folder\n",
        "file_list=os.listdir('./raw_data/missing')"
      ]
    },
    {
      "cell_type": "code",
      "execution_count": 45,
      "metadata": {},
      "outputs": [],
      "source": [
        "# Assemble a dataframe with the JIFs fo rthe missing publications\n",
        "new_journals = []\n",
        "for file_name in file_list:\n",
        "    file_path= f\"./raw_data/missing/{file_name}\"\n",
        "    with open(file_path) as f:\n",
        "        j_name= f.readline().strip().lower()\n",
        "    df = pd.read_csv(file_path, header = 4, sep=\",\", index_col=False)\n",
        "    df['Publication Name'] = j_name\n",
        "    df['Year'] = pd.to_numeric(df['Year'], errors='coerce')\n",
        "    df.drop(df[df['Journal impact factor'].isna()].index, inplace=True)\n",
        "    df['Year'] = df['Year'].astype(int)\n",
        "    df = df[['Year', 'Journal impact factor', 'Publication Name']]\n",
        "    df.columns = ['Year Published', 'JIF_new', 'Publication Name']\n",
        "    new_journals.append(df)\n",
        "\n",
        "New_IFs_df = pd.concat(new_journals, axis = 0)"
      ]
    },
    {
      "cell_type": "code",
      "execution_count": 46,
      "metadata": {},
      "outputs": [],
      "source": [
        "#Join the records with missing JIF with the dataframe of the new JIFS\n",
        "new_join_df = pd.merge(New_IFs_df, join_df[join_df['JIF'].isna()], how = 'right', on=['Year Published', 'Publication Name'])\n",
        "new_join_df.drop(['JIF'], axis=1, inplace=True)\n",
        "new_join_df.rename(columns={'JIF_new':'JIF'}, inplace=True)"
      ]
    },
    {
      "cell_type": "code",
      "execution_count": 50,
      "metadata": {},
      "outputs": [
        {
          "data": {
            "text/plain": [
              "4542"
            ]
          },
          "execution_count": 50,
          "metadata": {},
          "output_type": "execute_result"
        }
      ],
      "source": [
        "#Join the result of the first join and the second join\n",
        "final_join = pd.concat([join_df, new_join_df], axis = 0)\n",
        "final_join.dropna(subset = ['JIF'], inplace=True)\n",
        "final_join.dropna(subset = ['Abstract'], inplace=True)\n",
        "len(final_join)"
      ]
    },
    {
      "cell_type": "code",
      "execution_count": 51,
      "metadata": {},
      "outputs": [
        {
          "data": {
            "text/html": [
              "<div>\n",
              "<style scoped>\n",
              "    .dataframe tbody tr th:only-of-type {\n",
              "        vertical-align: middle;\n",
              "    }\n",
              "\n",
              "    .dataframe tbody tr th {\n",
              "        vertical-align: top;\n",
              "    }\n",
              "\n",
              "    .dataframe thead th {\n",
              "        text-align: right;\n",
              "    }\n",
              "</style>\n",
              "<table border=\"1\" class=\"dataframe\">\n",
              "  <thead>\n",
              "    <tr style=\"text-align: right;\">\n",
              "      <th></th>\n",
              "      <th>ISSN</th>\n",
              "      <th>JIF</th>\n",
              "      <th>Eigenfactor</th>\n",
              "      <th>Year Published</th>\n",
              "      <th>Authors</th>\n",
              "      <th>Document Title</th>\n",
              "      <th>Publication Name</th>\n",
              "      <th>Author Keywords</th>\n",
              "      <th>Abstract</th>\n",
              "      <th>Author Address</th>\n",
              "      <th>Reprint Address</th>\n",
              "      <th>Funding Agency and Grant Number</th>\n",
              "      <th>Cited Reference Count</th>\n",
              "      <th>Times cited</th>\n",
              "      <th>Usage Count (Last 180 Days)</th>\n",
              "      <th>Usage Count (Since 2013)</th>\n",
              "      <th>Publisher Address</th>\n",
              "      <th>Page Count</th>\n",
              "      <th>Web of Science Categories</th>\n",
              "      <th>eISSN</th>\n",
              "    </tr>\n",
              "  </thead>\n",
              "  <tbody>\n",
              "    <tr>\n",
              "      <th>1</th>\n",
              "      <td>0960-894X</td>\n",
              "      <td>2.538</td>\n",
              "      <td>NaN</td>\n",
              "      <td>2006</td>\n",
              "      <td>Raab, CE; Butcher, JW; Connolly, TM; Karczewsk...</td>\n",
              "      <td>Synthesis of the first sulfur-35-labeled hERG ...</td>\n",
              "      <td>bioorganic &amp; medicinal chemistry letters</td>\n",
              "      <td>S-35; hERG; radioligand; synthesis</td>\n",
              "      <td>The synthesis of the first high specific activ...</td>\n",
              "      <td>Merck Res Labs, Dept Drug Metab, Rahway, NJ 07...</td>\n",
              "      <td>Raab, CE (corresponding author), Merck Res Lab...</td>\n",
              "      <td>NaN</td>\n",
              "      <td>18</td>\n",
              "      <td>24</td>\n",
              "      <td>0</td>\n",
              "      <td>0</td>\n",
              "      <td>THE BOULEVARD, LANGFORD LANE, KIDLINGTON, OXFO...</td>\n",
              "      <td>4</td>\n",
              "      <td>Chemistry, Medicinal; Chemistry, Organic</td>\n",
              "      <td>NaN</td>\n",
              "    </tr>\n",
              "    <tr>\n",
              "      <th>3</th>\n",
              "      <td>0960-894X</td>\n",
              "      <td>2.333</td>\n",
              "      <td>NaN</td>\n",
              "      <td>2004</td>\n",
              "      <td>Su, DS; Markowitz, MK; Murphy, KL; Wan, BL; Zr...</td>\n",
              "      <td>Development of an efficient and selective radi...</td>\n",
              "      <td>bioorganic &amp; medicinal chemistry letters</td>\n",
              "      <td>Bradykinin B-1; receptor; antagonist; radiolig...</td>\n",
              "      <td>We have developed an efficient and selective r...</td>\n",
              "      <td>Merck Res Labs, Dept Med Chem, W Point, PA 194...</td>\n",
              "      <td>Su, DS (corresponding author), Merck Res Labs,...</td>\n",
              "      <td>NaN</td>\n",
              "      <td>17</td>\n",
              "      <td>21</td>\n",
              "      <td>0</td>\n",
              "      <td>3</td>\n",
              "      <td>THE BOULEVARD, LANGFORD LANE, KIDLINGTON, OXFO...</td>\n",
              "      <td>4</td>\n",
              "      <td>Chemistry, Medicinal; Chemistry, Organic</td>\n",
              "      <td>NaN</td>\n",
              "    </tr>\n",
              "    <tr>\n",
              "      <th>4</th>\n",
              "      <td>0960-894X</td>\n",
              "      <td>2.333</td>\n",
              "      <td>NaN</td>\n",
              "      <td>2004</td>\n",
              "      <td>Matulenko, MA; Surber, B; Fan, LM; Kolasa, T; ...</td>\n",
              "      <td>Synthesis and activity of 2-[4-(4-[&lt;SUP&gt;3&lt;/SUP...</td>\n",
              "      <td>bioorganic &amp; medicinal chemistry letters</td>\n",
              "      <td>dopamine; agonist; radioligand</td>\n",
              "      <td>The first selective dopamine D-4 agonist radio...</td>\n",
              "      <td>Abbott Labs, Global Pharmaceut Res &amp; Dev, Neur...</td>\n",
              "      <td>Matulenko, MA (corresponding author), Abbott L...</td>\n",
              "      <td>NaN</td>\n",
              "      <td>15</td>\n",
              "      <td>12</td>\n",
              "      <td>0</td>\n",
              "      <td>2</td>\n",
              "      <td>THE BOULEVARD, LANGFORD LANE, KIDLINGTON, OXFO...</td>\n",
              "      <td>4</td>\n",
              "      <td>Chemistry, Medicinal; Chemistry, Organic</td>\n",
              "      <td>NaN</td>\n",
              "    </tr>\n",
              "    <tr>\n",
              "      <th>5</th>\n",
              "      <td>0161-5505</td>\n",
              "      <td>11.082</td>\n",
              "      <td>0.029</td>\n",
              "      <td>2021</td>\n",
              "      <td>Treiber, H; König, A; Neesse, A; Richter, A; S...</td>\n",
              "      <td>Liver Enzyme Elevation After &lt;SUP&gt;177&lt;/SUP&gt;Lu-...</td>\n",
              "      <td>journal of nuclear medicine</td>\n",
              "      <td>genitourinary oncology; radionuclide therapy; ...</td>\n",
              "      <td>Lu-177-PSMA radioligand therapy is a promising...</td>\n",
              "      <td>[Treiber, Hannes] Univ Med Ctr Gottingen, Dept...</td>\n",
              "      <td>Treiber, H (corresponding author), Univ Med Ct...</td>\n",
              "      <td>NaN</td>\n",
              "      <td>7</td>\n",
              "      <td>3</td>\n",
              "      <td>1</td>\n",
              "      <td>5</td>\n",
              "      <td>1850 SAMUEL MORSE DR, RESTON, VA 20190-5316 USA</td>\n",
              "      <td>4</td>\n",
              "      <td>Radiology, Nuclear Medicine &amp; Medical Imaging</td>\n",
              "      <td>NaN</td>\n",
              "    </tr>\n",
              "    <tr>\n",
              "      <th>6</th>\n",
              "      <td>1536-1632</td>\n",
              "      <td>2.774</td>\n",
              "      <td>0.006</td>\n",
              "      <td>2014</td>\n",
              "      <td>Schou, M; Varnäs, K; Sandell, J; Johnström, P;...</td>\n",
              "      <td>Synthesis, Radiolabeling, and &lt;i&gt;In Vivo&lt;/i&gt; P...</td>\n",
              "      <td>molecular imaging and biology</td>\n",
              "      <td>PET; Radioligand; Amyloid; AZD4694; Carbon-11</td>\n",
              "      <td>[F-18]AZD4694 (2-(2-F-18-fluoro-6-(methylamino...</td>\n",
              "      <td>[Schou, Magnus; Johnstrom, Peter; Cselenyi, Zs...</td>\n",
              "      <td>Schou, M (corresponding author), Karolinska Un...</td>\n",
              "      <td>NaN</td>\n",
              "      <td>25</td>\n",
              "      <td>9</td>\n",
              "      <td>0</td>\n",
              "      <td>14</td>\n",
              "      <td>233 SPRING ST, NEW YORK, NY 10013 USA</td>\n",
              "      <td>7</td>\n",
              "      <td>Radiology, Nuclear Medicine &amp; Medical Imaging</td>\n",
              "      <td>NaN</td>\n",
              "    </tr>\n",
              "  </tbody>\n",
              "</table>\n",
              "</div>"
            ],
            "text/plain": [
              "        ISSN     JIF  Eigenfactor  Year Published  \\\n",
              "1  0960-894X   2.538          NaN            2006   \n",
              "3  0960-894X   2.333          NaN            2004   \n",
              "4  0960-894X   2.333          NaN            2004   \n",
              "5  0161-5505  11.082        0.029            2021   \n",
              "6  1536-1632   2.774        0.006            2014   \n",
              "\n",
              "                                             Authors  \\\n",
              "1  Raab, CE; Butcher, JW; Connolly, TM; Karczewsk...   \n",
              "3  Su, DS; Markowitz, MK; Murphy, KL; Wan, BL; Zr...   \n",
              "4  Matulenko, MA; Surber, B; Fan, LM; Kolasa, T; ...   \n",
              "5  Treiber, H; König, A; Neesse, A; Richter, A; S...   \n",
              "6  Schou, M; Varnäs, K; Sandell, J; Johnström, P;...   \n",
              "\n",
              "                                      Document Title  \\\n",
              "1  Synthesis of the first sulfur-35-labeled hERG ...   \n",
              "3  Development of an efficient and selective radi...   \n",
              "4  Synthesis and activity of 2-[4-(4-[<SUP>3</SUP...   \n",
              "5  Liver Enzyme Elevation After <SUP>177</SUP>Lu-...   \n",
              "6  Synthesis, Radiolabeling, and <i>In Vivo</i> P...   \n",
              "\n",
              "                           Publication Name  \\\n",
              "1  bioorganic & medicinal chemistry letters   \n",
              "3  bioorganic & medicinal chemistry letters   \n",
              "4  bioorganic & medicinal chemistry letters   \n",
              "5               journal of nuclear medicine   \n",
              "6             molecular imaging and biology   \n",
              "\n",
              "                                     Author Keywords  \\\n",
              "1                 S-35; hERG; radioligand; synthesis   \n",
              "3  Bradykinin B-1; receptor; antagonist; radiolig...   \n",
              "4                     dopamine; agonist; radioligand   \n",
              "5  genitourinary oncology; radionuclide therapy; ...   \n",
              "6      PET; Radioligand; Amyloid; AZD4694; Carbon-11   \n",
              "\n",
              "                                            Abstract  \\\n",
              "1  The synthesis of the first high specific activ...   \n",
              "3  We have developed an efficient and selective r...   \n",
              "4  The first selective dopamine D-4 agonist radio...   \n",
              "5  Lu-177-PSMA radioligand therapy is a promising...   \n",
              "6  [F-18]AZD4694 (2-(2-F-18-fluoro-6-(methylamino...   \n",
              "\n",
              "                                      Author Address  \\\n",
              "1  Merck Res Labs, Dept Drug Metab, Rahway, NJ 07...   \n",
              "3  Merck Res Labs, Dept Med Chem, W Point, PA 194...   \n",
              "4  Abbott Labs, Global Pharmaceut Res & Dev, Neur...   \n",
              "5  [Treiber, Hannes] Univ Med Ctr Gottingen, Dept...   \n",
              "6  [Schou, Magnus; Johnstrom, Peter; Cselenyi, Zs...   \n",
              "\n",
              "                                     Reprint Address  \\\n",
              "1  Raab, CE (corresponding author), Merck Res Lab...   \n",
              "3  Su, DS (corresponding author), Merck Res Labs,...   \n",
              "4  Matulenko, MA (corresponding author), Abbott L...   \n",
              "5  Treiber, H (corresponding author), Univ Med Ct...   \n",
              "6  Schou, M (corresponding author), Karolinska Un...   \n",
              "\n",
              "  Funding Agency and Grant Number  Cited Reference Count  Times cited  \\\n",
              "1                             NaN                     18           24   \n",
              "3                             NaN                     17           21   \n",
              "4                             NaN                     15           12   \n",
              "5                             NaN                      7            3   \n",
              "6                             NaN                     25            9   \n",
              "\n",
              "   Usage Count (Last 180 Days)  Usage Count (Since 2013)  \\\n",
              "1                            0                         0   \n",
              "3                            0                         3   \n",
              "4                            0                         2   \n",
              "5                            1                         5   \n",
              "6                            0                        14   \n",
              "\n",
              "                                   Publisher Address  Page Count  \\\n",
              "1  THE BOULEVARD, LANGFORD LANE, KIDLINGTON, OXFO...           4   \n",
              "3  THE BOULEVARD, LANGFORD LANE, KIDLINGTON, OXFO...           4   \n",
              "4  THE BOULEVARD, LANGFORD LANE, KIDLINGTON, OXFO...           4   \n",
              "5    1850 SAMUEL MORSE DR, RESTON, VA 20190-5316 USA           4   \n",
              "6              233 SPRING ST, NEW YORK, NY 10013 USA           7   \n",
              "\n",
              "                       Web of Science Categories eISSN  \n",
              "1       Chemistry, Medicinal; Chemistry, Organic   NaN  \n",
              "3       Chemistry, Medicinal; Chemistry, Organic   NaN  \n",
              "4       Chemistry, Medicinal; Chemistry, Organic   NaN  \n",
              "5  Radiology, Nuclear Medicine & Medical Imaging   NaN  \n",
              "6  Radiology, Nuclear Medicine & Medical Imaging   NaN  "
            ]
          },
          "execution_count": 51,
          "metadata": {},
          "output_type": "execute_result"
        }
      ],
      "source": [
        "final_join.head()"
      ]
    },
    {
      "cell_type": "code",
      "execution_count": 52,
      "metadata": {},
      "outputs": [
        {
          "name": "stderr",
          "output_type": "stream",
          "text": [
            "C:\\Users\\Artem\\AppData\\Local\\Temp\\ipykernel_19656\\281751105.py:1: FutureWarning: Starting with pandas version 3.0 all arguments of to_csv except for the argument 'path_or_buf' will be keyword-only.\n",
            "  final_join.to_csv('join_df.csv', '\\t')\n"
          ]
        }
      ],
      "source": [
        "final_join.to_csv('join_df.csv', '\\t')"
      ]
    },
    {
      "cell_type": "code",
      "execution_count": null,
      "metadata": {},
      "outputs": [],
      "source": []
    }
  ],
  "metadata": {
    "kernelspec": {
      "display_name": "Python 3 (ipykernel)",
      "language": "python",
      "name": "python3"
    },
    "language_info": {
      "codemirror_mode": {
        "name": "ipython",
        "version": 3
      },
      "file_extension": ".py",
      "mimetype": "text/x-python",
      "name": "python",
      "nbconvert_exporter": "python",
      "pygments_lexer": "ipython3",
      "version": "3.9.15"
    }
  },
  "nbformat": 4,
  "nbformat_minor": 4
}
